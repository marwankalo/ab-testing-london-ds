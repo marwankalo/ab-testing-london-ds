{
 "cells": [
  {
   "cell_type": "markdown",
   "metadata": {},
   "source": [
    "# Interpreting an AB Test"
   ]
  },
  {
   "cell_type": "code",
   "execution_count": 1,
   "metadata": {},
   "outputs": [],
   "source": [
    "# estimate sample size via power analysis\n",
    "import statsmodels as sm\n",
    "from statsmodels.stats.power import TTestIndPower\n",
    "from statsmodels.stats.weightstats import ttest_ind\n",
    "import pandas as pd\n",
    "\n",
    "\n",
    "\n",
    "def cohen_d(mean_1, mean_2, pooled_sd):\n",
    "    diff = (mean_1 - mean_2)\n",
    "    cohen_d = diff/pooled_sd\n",
    "    return(cohen_d)\n",
    "    \n"
   ]
  },
  {
   "cell_type": "markdown",
   "metadata": {},
   "source": [
    "\n",
    "\n",
    "\n",
    "* Calculate Cohen's D for increasing click rate from 3% to 8%.\n",
    "* Assume the pooled standard deviation to be 14\n",
    "\n",
    "`Mean 1 - Mean 2 / pooled SD`"
   ]
  },
  {
   "cell_type": "code",
   "execution_count": 2,
   "metadata": {},
   "outputs": [
    {
     "data": {
      "text/plain": [
       "-0.35714285714285715"
      ]
     },
     "execution_count": 2,
     "metadata": {},
     "output_type": "execute_result"
    }
   ],
   "source": [
    "cohen_d(3,8,14)"
   ]
  },
  {
   "cell_type": "markdown",
   "metadata": {},
   "source": [
    "According to the rule of thumb given by Cohen, how big of an effect size is this?\n",
    "\n",
    "\n",
    "Given this effect size, how many samples will we need to collect in order to not make a type II error?"
   ]
  },
  {
   "cell_type": "code",
   "execution_count": 3,
   "metadata": {},
   "outputs": [
    {
     "name": "stdout",
     "output_type": "stream",
     "text": [
      "Sample Size: 210149.354\n"
     ]
    }
   ],
   "source": [
    "# Set Parameters \n",
    "\n",
    "effect = 0.01\n",
    "alpha = 0.05\n",
    "power = 0.9\n",
    "\n",
    "# Perform Power Analysis\n",
    "analysis = TTestIndPower()\n",
    "result = analysis.solve_power(effect, power=power, nobs1=None, ratio=1.0, alpha=alpha)\n",
    "print('Sample Size: %.3f' % result)"
   ]
  },
  {
   "cell_type": "code",
   "execution_count": 4,
   "metadata": {},
   "outputs": [
    {
     "data": {
      "text/html": [
       "<div>\n",
       "<style scoped>\n",
       "    .dataframe tbody tr th:only-of-type {\n",
       "        vertical-align: middle;\n",
       "    }\n",
       "\n",
       "    .dataframe tbody tr th {\n",
       "        vertical-align: top;\n",
       "    }\n",
       "\n",
       "    .dataframe thead th {\n",
       "        text-align: right;\n",
       "    }\n",
       "</style>\n",
       "<table border=\"1\" class=\"dataframe\">\n",
       "  <thead>\n",
       "    <tr style=\"text-align: right;\">\n",
       "      <th></th>\n",
       "      <th>Unnamed: 0</th>\n",
       "      <th>baseline</th>\n",
       "      <th>experiment</th>\n",
       "    </tr>\n",
       "  </thead>\n",
       "  <tbody>\n",
       "    <tr>\n",
       "      <td>0</td>\n",
       "      <td>1</td>\n",
       "      <td>6.584851</td>\n",
       "      <td>12.070477</td>\n",
       "    </tr>\n",
       "    <tr>\n",
       "      <td>1</td>\n",
       "      <td>2</td>\n",
       "      <td>8.199590</td>\n",
       "      <td>8.754982</td>\n",
       "    </tr>\n",
       "    <tr>\n",
       "      <td>2</td>\n",
       "      <td>3</td>\n",
       "      <td>4.853006</td>\n",
       "      <td>7.448798</td>\n",
       "    </tr>\n",
       "    <tr>\n",
       "      <td>3</td>\n",
       "      <td>4</td>\n",
       "      <td>6.617510</td>\n",
       "      <td>7.823632</td>\n",
       "    </tr>\n",
       "    <tr>\n",
       "      <td>4</td>\n",
       "      <td>5</td>\n",
       "      <td>7.615770</td>\n",
       "      <td>8.830345</td>\n",
       "    </tr>\n",
       "    <tr>\n",
       "      <td>...</td>\n",
       "      <td>...</td>\n",
       "      <td>...</td>\n",
       "      <td>...</td>\n",
       "    </tr>\n",
       "    <tr>\n",
       "      <td>127</td>\n",
       "      <td>128</td>\n",
       "      <td>7.968590</td>\n",
       "      <td>10.553795</td>\n",
       "    </tr>\n",
       "    <tr>\n",
       "      <td>128</td>\n",
       "      <td>129</td>\n",
       "      <td>7.346377</td>\n",
       "      <td>10.040481</td>\n",
       "    </tr>\n",
       "    <tr>\n",
       "      <td>129</td>\n",
       "      <td>130</td>\n",
       "      <td>1.436617</td>\n",
       "      <td>7.947673</td>\n",
       "    </tr>\n",
       "    <tr>\n",
       "      <td>130</td>\n",
       "      <td>131</td>\n",
       "      <td>6.285454</td>\n",
       "      <td>7.078833</td>\n",
       "    </tr>\n",
       "    <tr>\n",
       "      <td>131</td>\n",
       "      <td>132</td>\n",
       "      <td>0.277023</td>\n",
       "      <td>8.194120</td>\n",
       "    </tr>\n",
       "  </tbody>\n",
       "</table>\n",
       "<p>132 rows × 3 columns</p>\n",
       "</div>"
      ],
      "text/plain": [
       "     Unnamed: 0  baseline  experiment\n",
       "0             1  6.584851   12.070477\n",
       "1             2  8.199590    8.754982\n",
       "2             3  4.853006    7.448798\n",
       "3             4  6.617510    7.823632\n",
       "4             5  7.615770    8.830345\n",
       "..          ...       ...         ...\n",
       "127         128  7.968590   10.553795\n",
       "128         129  7.346377   10.040481\n",
       "129         130  1.436617    7.947673\n",
       "130         131  6.285454    7.078833\n",
       "131         132  0.277023    8.194120\n",
       "\n",
       "[132 rows x 3 columns]"
      ]
     },
     "execution_count": 4,
     "metadata": {},
     "output_type": "execute_result"
    }
   ],
   "source": [
    "import pandas as pd\n",
    "\n",
    "df = pd.read_csv(\"experiment_data.csv\")\n",
    "\n",
    "df"
   ]
  },
  {
   "cell_type": "code",
   "execution_count": 5,
   "metadata": {},
   "outputs": [
    {
     "name": "stdout",
     "output_type": "stream",
     "text": [
      "The critical value is: -12.735895121086049\n",
      "The p value value is: 3.046638134432578e-29\n",
      "Degrees of Freedom: 262.0\n"
     ]
    }
   ],
   "source": [
    "df = pd.read_csv(\"experiment_data.csv\")\n",
    "\n",
    "df\n",
    "\n",
    "big_test = sm.stats.weightstats.ttest_ind(df['baseline'], \n",
    "                               df['experiment'], \n",
    "                               alternative='two-sided', \n",
    "                               usevar='pooled', value=0)\n",
    "                                                          \n",
    "                                                          \n",
    "print(\"The critical value is:\", big_test[0])\n",
    "print(\"The p value value is:\", big_test[1])                                                          \n",
    "print(\"Degrees of Freedom:\", big_test[2])                                                          "
   ]
  },
  {
   "cell_type": "code",
   "execution_count": 6,
   "metadata": {},
   "outputs": [
    {
     "name": "stdout",
     "output_type": "stream",
     "text": [
      "AB Interpretation.ipynb   create_dummy_data.R       experiment_data_small.csv\r\n",
      "README.md                 experiment_data.csv\r\n"
     ]
    }
   ],
   "source": [
    "!ls"
   ]
  },
  {
   "cell_type": "markdown",
   "metadata": {},
   "source": [
    "# Your Turn! \n",
    "\n",
    "Find the file `experiment_data_small.csv` in the current working directory and run a t-test on this data.\n",
    "\n",
    "* First report the p value of the test\n",
    "* Second, write a statement on what the p value means\n",
    "* Third, use the function from above to calculate the effect size\n",
    "* Fourth, write a paragraph reccomending if we should adopt the change made by the second AB test we have run!\n",
    "\n",
    "Be prepared to be assigned to a side where you advocate for adopting the new change or not adopting the new change!"
   ]
  },
  {
   "cell_type": "code",
   "execution_count": 7,
   "metadata": {},
   "outputs": [
    {
     "data": {
      "text/html": [
       "<div>\n",
       "<style scoped>\n",
       "    .dataframe tbody tr th:only-of-type {\n",
       "        vertical-align: middle;\n",
       "    }\n",
       "\n",
       "    .dataframe tbody tr th {\n",
       "        vertical-align: top;\n",
       "    }\n",
       "\n",
       "    .dataframe thead th {\n",
       "        text-align: right;\n",
       "    }\n",
       "</style>\n",
       "<table border=\"1\" class=\"dataframe\">\n",
       "  <thead>\n",
       "    <tr style=\"text-align: right;\">\n",
       "      <th></th>\n",
       "      <th>Unnamed: 0</th>\n",
       "      <th>baseline_small</th>\n",
       "      <th>experiment_small</th>\n",
       "    </tr>\n",
       "  </thead>\n",
       "  <tbody>\n",
       "    <tr>\n",
       "      <td>0</td>\n",
       "      <td>1</td>\n",
       "      <td>4.089394</td>\n",
       "      <td>5.506201</td>\n",
       "    </tr>\n",
       "    <tr>\n",
       "      <td>1</td>\n",
       "      <td>2</td>\n",
       "      <td>10.884680</td>\n",
       "      <td>26.349077</td>\n",
       "    </tr>\n",
       "    <tr>\n",
       "      <td>2</td>\n",
       "      <td>3</td>\n",
       "      <td>17.741562</td>\n",
       "      <td>-18.941091</td>\n",
       "    </tr>\n",
       "    <tr>\n",
       "      <td>3</td>\n",
       "      <td>4</td>\n",
       "      <td>10.170520</td>\n",
       "      <td>33.235422</td>\n",
       "    </tr>\n",
       "    <tr>\n",
       "      <td>4</td>\n",
       "      <td>5</td>\n",
       "      <td>8.978086</td>\n",
       "      <td>8.503653</td>\n",
       "    </tr>\n",
       "  </tbody>\n",
       "</table>\n",
       "</div>"
      ],
      "text/plain": [
       "   Unnamed: 0  baseline_small  experiment_small\n",
       "0           1        4.089394          5.506201\n",
       "1           2       10.884680         26.349077\n",
       "2           3       17.741562        -18.941091\n",
       "3           4       10.170520         33.235422\n",
       "4           5        8.978086          8.503653"
      ]
     },
     "execution_count": 7,
     "metadata": {},
     "output_type": "execute_result"
    }
   ],
   "source": [
    "df1 = pd.read_csv('experiment_data_small.csv')\n",
    "df1.head()"
   ]
  },
  {
   "cell_type": "code",
   "execution_count": 8,
   "metadata": {},
   "outputs": [
    {
     "name": "stdout",
     "output_type": "stream",
     "text": [
      "Mean 1 is -0.3914423848805543\n",
      "Mean 2 is 6.177880867292604\n",
      "Pooled standard deviation is 14.42780381651844\n",
      "Our effect size or Cohen's D is -0.4553238549481744\n"
     ]
    }
   ],
   "source": [
    "# SD_pooled = square root of (SD1 + SD2)/2\n",
    "SD_pooled = ((df1['baseline_small'].std()**2+df1['experiment_small'].std()**2)/2)**0.5\n",
    "mean_baseline = df1['baseline_small'].mean()\n",
    "mean_experiment = df1['experiment_small'].mean()\n",
    "\n",
    "\n",
    "print(\"Mean 1 is\", mean_baseline)\n",
    "print(\"Mean 2 is\", mean_experiment)\n",
    "print(\"Pooled standard deviation is\", SD_pooled)\n",
    "\n",
    "#Cohen's d is an effect size used to indicate the standardised difference between two means.\n",
    "def cohen_d(mean_1, mean_2, pooled_sd):\n",
    "    diff = (mean_1 - mean_2)\n",
    "    cohen_d = diff/pooled_sd\n",
    "    return(cohen_d)\n",
    "\n",
    "print(\"Our effect size or Cohen's D is\", cohen_d(mean_baseline, mean_experiment, SD_pooled))"
   ]
  },
  {
   "cell_type": "code",
   "execution_count": 9,
   "metadata": {},
   "outputs": [
    {
     "name": "stdout",
     "output_type": "stream",
     "text": [
      "The critical value is: -1.7634617073452414\n",
      "The p value value is: 0.08308969146581927\n",
      "Degrees of Freedom: 58.0\n"
     ]
    }
   ],
   "source": [
    "big_test1 = sm.stats.weightstats.ttest_ind(df1['baseline_small'], \n",
    "                               df1['experiment_small'], \n",
    "                               alternative='two-sided', \n",
    "                               usevar='pooled', value=0)\n",
    "                                                          \n",
    "print(\"The critical value is:\", big_test1[0])\n",
    "print(\"The p value value is:\", big_test1[1])                                                          \n",
    "print(\"Degrees of Freedom:\", big_test1[2])"
   ]
  },
  {
   "cell_type": "code",
   "execution_count": 10,
   "metadata": {},
   "outputs": [],
   "source": [
    "# As seen above, the p value value is: 0.08308969146581927\n",
    "# The p value is the probability of geeting your sample statistics, given the null hypothesis is true.\n",
    "# In this case, our p value is higher than our alpha of 0.05 therefore we fail to reject the null hypothesis."
   ]
  },
  {
   "cell_type": "code",
   "execution_count": 11,
   "metadata": {},
   "outputs": [
    {
     "name": "stdout",
     "output_type": "stream",
     "text": [
      "The critical value is: -1.7634617073452414\n",
      "The p value value is: 0.04154484573290963\n",
      "Degrees of Freedom: 58.0\n"
     ]
    }
   ],
   "source": [
    "# If we run the test again however this time only look for a change in the negative direction:\n",
    "\n",
    "big_test2 = sm.stats.weightstats.ttest_ind(df1['baseline_small'], \n",
    "                               df1['experiment_small'], \n",
    "                               alternative='smaller', \n",
    "                               usevar='pooled', value=0)\n",
    "                                                          \n",
    "print(\"The critical value is:\", big_test2[0])\n",
    "print(\"The p value value is:\", big_test2[1])                                                          \n",
    "print(\"Degrees of Freedom:\", big_test2[2])"
   ]
  },
  {
   "cell_type": "code",
   "execution_count": 12,
   "metadata": {},
   "outputs": [],
   "source": [
    "# The p value is now 0.04154484573290963 and we can reject the null hypothesis and accept the alternative hypothesis\n",
    "# I am unsure how to interpret this given we are taking all values in the negative direction, please could we\n",
    "# go over this tomorrow if you have a second Dave thanks!"
   ]
  },
  {
   "cell_type": "code",
   "execution_count": 14,
   "metadata": {},
   "outputs": [],
   "source": [
    "import seaborn as sns"
   ]
  },
  {
   "cell_type": "code",
   "execution_count": null,
   "metadata": {},
   "outputs": [],
   "source": []
  },
  {
   "cell_type": "code",
   "execution_count": null,
   "metadata": {},
   "outputs": [],
   "source": []
  },
  {
   "cell_type": "code",
   "execution_count": null,
   "metadata": {},
   "outputs": [],
   "source": []
  },
  {
   "cell_type": "code",
   "execution_count": null,
   "metadata": {},
   "outputs": [],
   "source": []
  },
  {
   "cell_type": "code",
   "execution_count": null,
   "metadata": {},
   "outputs": [],
   "source": []
  },
  {
   "cell_type": "code",
   "execution_count": null,
   "metadata": {},
   "outputs": [],
   "source": []
  }
 ],
 "metadata": {
  "kernelspec": {
   "display_name": "Python 3",
   "language": "python",
   "name": "python3"
  },
  "language_info": {
   "codemirror_mode": {
    "name": "ipython",
    "version": 3
   },
   "file_extension": ".py",
   "mimetype": "text/x-python",
   "name": "python",
   "nbconvert_exporter": "python",
   "pygments_lexer": "ipython3",
   "version": "3.6.9"
  }
 },
 "nbformat": 4,
 "nbformat_minor": 2
}
